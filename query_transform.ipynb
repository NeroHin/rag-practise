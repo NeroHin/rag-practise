{
  "cells": [
    {
      "cell_type": "markdown",
      "metadata": {},
      "source": [
        "### 查詢擴充（Expand Query）\n",
        "\n",
        "#### 方法說明\n",
        "自動為原始查詢添加相關詞彙，包含同義詞、相關概念等，以提升檢索範圍。這個技術能夠彌補用戶查詢詞彙不足的問題，提高檢索的召回率。\n",
        "\n",
        "#### 技術原理\n",
        "- 使用詞彙擴展技術識別同義詞\n",
        "- 利用知識圖譜找出相關概念\n",
        "- 基於語義向量計算相似詞彙\n",
        "- 結合領域知識進行概念擴展\n",
        "\n",
        "#### 應用場景\n",
        "- 提升檢索召回率\n",
        "- 處理用戶查詢詞彙貧乏問題\n",
        "- 跨語言檢索支援\n",
        "- 專業術語擴展\n"
      ]
    },
    {
      "cell_type": "code",
      "execution_count": 1,
      "metadata": {},
      "outputs": [],
      "source": [
        "import time\n",
        "import os\n",
        "import openai\n",
        "\n",
        "class QueryExpander:\n",
        "    def __init__(self):\n",
        "        self.client = openai.OpenAI(\n",
        "            api_key=os.environ[\"LITELLM_PROXY_API_KEY\"],\n",
        "            base_url=os.environ[\"LITELLM_PROXY_API_BASE\"]\n",
        "        )\n",
        "\n",
        "    def expand_query(self, original_query: str, model: str) -> str:\n",
        "        \"\"\"\n",
        "        使用 LLM 進行查詢擴充\n",
        "        \"\"\"\n",
        "        prompt = f\"\"\"\n",
        "        請為以下查詢提供 5 個相關的擴充詞彙：\n",
        "\n",
        "        原始查詢：{original_query}\n",
        "\n",
        "        請提供：\n",
        "        1. 同義詞\n",
        "        2. 相關概念\n",
        "        3. 上下位詞\n",
        "        4. 相關術語\n",
        "\n",
        "        只回傳擴充詞彙，輸出格式為 Array List，不要包含其他說明。\n",
        "        輸出例子：\n",
        "        [\n",
        "            \"貓咪\",\n",
        "            \"貓咪照片\",\n",
        "            \"貓咪影像\", \n",
        "            \"貓咪圖片\",\n",
        "            \"貓咪影片\"\n",
        "        ]\n",
        "        \"\"\"\n",
        "\n",
        "        try:\n",
        "            response = self.client.chat.completions.create(\n",
        "                model=model,\n",
        "                messages=[{\"role\": \"user\", \"content\": prompt}]\n",
        "            )\n",
        "            \n",
        "            return response.choices[0].message.content.strip()\n",
        "            \n",
        "        except Exception as e:\n",
        "            print(f\"API 調用錯誤: {e}\")\n",
        "            return original_query\n",
        "\n",
        "# 初始化查詢擴寫器\n",
        "expander = QueryExpander()"
      ]
    },
    {
      "cell_type": "markdown",
      "metadata": {},
      "source": [
        "#### Example 實作範例\n"
      ]
    },
    {
      "cell_type": "code",
      "execution_count": 9,
      "metadata": {},
      "outputs": [],
      "source": [
        "original_queries = [\n",
        "    \"我想找關於胖橘貓咪的照片\",\n",
        "    \"請幫我找一些關於機器學習的資料，專注在電腦視覺領域\",\n",
        "    \"有沒有教怎麼做戚風蛋糕的影片？\",\n",
        "    \"台北有什麼好玩的地方嗎？三天兩夜\"\n",
        "]"
      ]
    },
    {
      "cell_type": "markdown",
      "metadata": {},
      "source": [
        "##### 範例：同義詞擴充"
      ]
    },
    {
      "cell_type": "code",
      "execution_count": 11,
      "metadata": {},
      "outputs": [
        {
          "name": "stdout",
          "output_type": "stream",
          "text": [
            "=== 查詢擴寫範例 ===\n",
            "\n",
            "範例 1:\n",
            "原始查詢: 我想找關於胖橘貓咪的照片\n",
            "擴寫查詢: [\n",
            "    \"橘色貓\",\n",
            "    \"橘貓照片\",\n",
            "    \"貓咪品種\",\n",
            "    \"寵物圖片\",\n",
            "    \"萌系貓咪\"\n",
            "]\n",
            "\n",
            "範例 2:\n",
            "原始查詢: 請幫我找一些關於機器學習的資料，專注在電腦視覺領域\n",
            "擴寫查詢: [\n",
            "    \"電腦視覺\",\n",
            "    \"圖像辨識\",\n",
            "    \"深度學習\",\n",
            "    \"卷積神經網路\",\n",
            "    \"影像處理\"\n",
            "]\n",
            "\n",
            "範例 3:\n",
            "原始查詢: 有沒有教怎麼做戚風蛋糕的影片？\n",
            "擴寫查詢: [\n",
            "    \"戚風蛋糕制作方法\",\n",
            "    \"戚風蛋糕食譜\",\n",
            "    \"戚風蛋糕製作影片\",\n",
            "    \"如何做戚風蛋糕\",\n",
            "    \"海綿蛋糕影片\"\n",
            "]\n",
            "\n",
            "範例 4:\n",
            "原始查詢: 台北有什麼好玩的地方嗎？三天兩夜\n",
            "擴寫查詢: [\n",
            "    \"台北景點\",\n",
            "    \"旅遊行程\",\n",
            "    \"文化古蹟\",\n",
            "    \"住宿推薦\",\n",
            "    \"觀光景點\"\n",
            "]\n"
          ]
        }
      ],
      "source": [
        "print(\"=== 查詢擴寫範例 ===\")\n",
        "for i, query in enumerate(original_queries, 1):\n",
        "    print(f\"\\n範例 {i}:\")\n",
        "    print(f\"原始查詢: {query}\")\n",
        "    \n",
        "    rewritten = expander.expand_query(query, \"gpt-4.1-nano\")\n",
        "    print(f\"擴寫查詢: {rewritten}\")\n",
        "    "
      ]
    },
    {
      "cell_type": "markdown",
      "metadata": {},
      "source": [
        "### 查詢重寫（Query Rewrite）\n",
        "\n",
        "##### 方法說明\n",
        "自動優化使用者的原始查詢語句，使其更符合檢索系統的特性。這個技術能夠將自然語言查詢轉換為更精確的檢索詞彙，提升檢索效果。\n",
        "\n",
        "##### 技術原理\n",
        "- 使用 LLM 分析原始查詢的語意\n",
        "- 識別關鍵詞並進行優化\n",
        "- 去除冗餘詞彙，強化檢索核心概念\n",
        "- 適應不同檢索系統的特性\n",
        "\n",
        "##### 應用場景\n",
        "- 語音轉文字查詢優化\n",
        "- 口語化查詢正規化\n",
        "- 多語言查詢統一\n",
        "- 檢索系統適配\n"
      ]
    },
    {
      "cell_type": "code",
      "execution_count": 16,
      "metadata": {},
      "outputs": [],
      "source": [
        "import time\n",
        "import os\n",
        "import openai\n",
        "\n",
        "class QueryRewriter:\n",
        "    def __init__(self):\n",
        "        self.client = openai.OpenAI(\n",
        "            api_key=os.environ[\"LITELLM_PROXY_API_KEY\"],\n",
        "            base_url=os.environ[\"LITELLM_PROXY_API_BASE\"]\n",
        "        )\n",
        "\n",
        "    def rewrite_query(self, original_query: str, model: str) -> str:\n",
        "        \"\"\"\n",
        "        重寫查詢語句\n",
        "        \n",
        "        Args:\n",
        "            original_query: 原始查詢語句\n",
        "            model: 使用的模型名稱 (groq/llama3-8b-8192 或 openai/gpt-4.1-nano-2025-04-14)\n",
        "            \n",
        "        Returns:\n",
        "            重寫後的查詢語句\n",
        "        \"\"\"\n",
        "        prompt = f\"\"\"\n",
        "        你是一個專業的查詢優化助手。請將以下原始查詢重寫得更詳細。\n",
        "\n",
        "        原始查詢：{original_query}\n",
        "\n",
        "        只回傳重寫後的文本，不要包含其他說明和多餘的文字或符號，必須維持原來的格式且必須為句子、且不要改變句字的文法，像要維找問句\n",
        "        輸出必須是正體中文。\n",
        "        輸出例子：\n",
        "        原始查詢: 我想找關於貓咪的照片，最好是胖橘\n",
        "        重寫查詢: 我想找一些關於貓咪的照片，特別是那些身材較胖、毛色為橘色的貓咪，可以包含不同角度和姿勢的圖片。\n",
        "        \"\"\"\n",
        "\n",
        "        try:\n",
        "            response = self.client.chat.completions.create(\n",
        "                model=model,\n",
        "                messages=[{\"role\": \"user\", \"content\": prompt}]\n",
        "            )\n",
        "            \n",
        "            return response.choices[0].message.content.strip()\n",
        "            \n",
        "        except Exception as e:\n",
        "            print(f\"API 調用錯誤: {e}\")\n",
        "            return original_query\n",
        "    \n",
        "# 初始化查詢重寫器\n",
        "rewriter = QueryRewriter()"
      ]
    },
    {
      "cell_type": "markdown",
      "metadata": {
        "vscode": {
          "languageId": "raw"
        }
      },
      "source": [
        "#### Example 實作範例\n"
      ]
    },
    {
      "cell_type": "code",
      "execution_count": 14,
      "metadata": {},
      "outputs": [],
      "source": [
        "original_queries = [\n",
        "    # \"我想找關於胖橘貓咪的照片\",\n",
        "    # \"請幫我找一些關於機器學習的資料，專注在電腦視覺領域\",\n",
        "    # \"有沒有教怎麼做戚風蛋糕的影片？\",\n",
        "    \"請問醫師子宮肌瘤術後的飲食需要注意什麼\"\n",
        "]"
      ]
    },
    {
      "cell_type": "markdown",
      "metadata": {},
      "source": [
        "##### 範例 1：口語化查詢優化"
      ]
    },
    {
      "cell_type": "code",
      "execution_count": 14,
      "metadata": {},
      "outputs": [
        {
          "name": "stdout",
          "output_type": "stream",
          "text": [
            "=== 查詢重寫範例 ===\n",
            "\n",
            "範例 1:\n",
            "原始查詢: 我想找關於胖橘貓咪的照片\n",
            "重寫查詢: 我想找一些關於胖橘色貓咪的照片，這些照片應該展示貓咪的不同姿勢、角度，並且是高品質的圖片，讓我能夠欣賞到牠們可愛的模樣。\n",
            "\n",
            "範例 2:\n",
            "原始查詢: 請幫我找一些關於機器學習的資料，專注在電腦視覺領域\n",
            "重寫查詢: 請幫我搜集有關機器學習的相關資料，並且重點關注於電腦視覺領域的最新研究、技術應用，以及相關的理論與算法，包含學術論文、技術報告、行業應用案例以及開源工具或資源，並提供相關的學習資源或推薦的資料來源。\n",
            "\n",
            "範例 3:\n",
            "原始查詢: 有沒有教怎麼做戚風蛋糕的影片？\n",
            "重寫查詢: 有沒有詳細教學如何製作戚風蛋糕的影片，內容包括所有材料準備、步驟示範以及烘焙技巧的教程影片？\n",
            "\n",
            "範例 4:\n",
            "原始查詢: 台北有什麼好玩的地方嗎？三天兩夜\n",
            "重寫查詢: 台北有哪些必訪的景點和活動適合三天兩夜的行程安排，可以包含文化古蹟、市集、美食、夜景、博物館，以及適合家庭或情侶的休閒娛樂場所，並提供詳細的行程建議和推薦。\n"
          ]
        }
      ],
      "source": [
        "print(\"=== 查詢重寫範例 ===\")\n",
        "for i, query in enumerate(original_queries, 1):\n",
        "    print(f\"\\n範例 {i}:\")\n",
        "    print(f\"原始查詢: {query}\")\n",
        "    \n",
        "    rewritten = rewriter.rewrite_query(query, \"gpt-4.1-nano\")\n",
        "    print(f\"重寫查詢: {rewritten}\")\n",
        "    "
      ]
    },
    {
      "cell_type": "markdown",
      "metadata": {},
      "source": [
        "##### 比較使用 Groq vs. OpenAI GPT-4o-mini vs. Ollama Qwen3 0.6B 的用時"
      ]
    },
    {
      "cell_type": "code",
      "execution_count": 17,
      "metadata": {},
      "outputs": [
        {
          "name": "stdout",
          "output_type": "stream",
          "text": [
            "==使用 groq/llama-3.1-8b-instant 重寫查詢 ==\n",
            "原始查詢: 請問醫師子宮肌瘤術後的飲食需要注意什麼\n",
            "重寫查詢: 我想問的是，醫師子宮肌瘤術後，我需要注意的飲食問題有哪些。\n",
            "\n",
            "重寫時間: 0.5938947200775146 秒\n",
            "\n",
            "==使用 groq/llama-3.3-70b-versatile 重寫查詢 ==\n",
            "原始查詢: 請問醫師子宮肌瘤術後的飲食需要注意什麼\n",
            "重寫查詢: 請問醫師，子宮肌瘤手術後的患者在飲食方面需要注意哪些事項，以避免并發症、加速恢復及保持身體健康？\n",
            "\n",
            "重寫時間: 0.6476960182189941 秒\n",
            "\n"
          ]
        }
      ],
      "source": [
        "def compare_models(original_query_list: list, model_name: str):\n",
        "    \"\"\"\n",
        "    比較不同模型的重寫效果\n",
        "    \"\"\"\n",
        "    # 初始化查詢重寫器\n",
        "    rewriter = QueryRewriter()\n",
        "    start_time = time.time()\n",
        "    print(f\"==使用 {model_name} 重寫查詢 ==\")\n",
        "    for original_query in original_query_list:\n",
        "        print(f\"原始查詢: {original_query}\")\n",
        "        rewritten = rewriter.rewrite_query(original_query, model_name)\n",
        "        print(f\"重寫查詢: {rewritten}\\n\")\n",
        "    end_time = time.time()\n",
        "    print(f\"重寫時間: {end_time - start_time} 秒\\n\")\n",
        "\n",
        "# openai-gpt-4.1-nano-2025-04-14\n",
        "# compare_models(original_queries, \"gpt-4.1-nano\")\n",
        "\n",
        "# groq/llama-3.1-8b-instant\n",
        "compare_models(original_queries, \"groq/llama-3.1-8b-instant\")\n",
        "\n",
        "# groq/llama-3.3-70b-versatile\n",
        "compare_models(original_queries, \"groq/llama-3.3-70b-versatile\")\n",
        "\n",
        "# gemini/gemini-2.0-flash-lite\n",
        "# compare_models(original_queries, \"gemini/gemini-2.0-flash-lite\")"
      ]
    },
    {
      "cell_type": "code",
      "execution_count": null,
      "metadata": {},
      "outputs": [],
      "source": []
    }
  ],
  "metadata": {
    "kernelspec": {
      "display_name": "dtt-gai",
      "language": "python",
      "name": "python3"
    },
    "language_info": {
      "codemirror_mode": {
        "name": "ipython",
        "version": 3
      },
      "file_extension": ".py",
      "mimetype": "text/x-python",
      "name": "python",
      "nbconvert_exporter": "python",
      "pygments_lexer": "ipython3",
      "version": "3.11.11"
    }
  },
  "nbformat": 4,
  "nbformat_minor": 2
}
